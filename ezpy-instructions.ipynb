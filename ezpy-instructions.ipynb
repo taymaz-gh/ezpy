{
 "cells": [
  {
   "cell_type": "code",
   "execution_count": null,
   "id": "a0b6cbce",
   "metadata": {},
   "outputs": [],
   "source": [
    "# ---------------- Creating Basic Structure  &  Initializing git -----------------\n",
    "\n",
    "# ezpy/\n",
    "# ├── ezpy/                 # Main source code folder\n",
    "# │   └── __init__.py\n",
    "# ├── examples/             # Sample .ezpy files\n",
    "# ├── tests/                # Unit tests\n",
    "# ├── README.md             # Project documentation\n",
    "# ├── setup.py              # Install and publish config\n",
    "# ├── LICENSE\n",
    "# └── ezpy.py              # CLI entry script (compile ezpy → py)\n",
    "\n",
    "\n",
    "# run in the terminal:\n",
    "\n",
    "mkdir ezpy\n",
    "cd ezpy\n",
    "\n",
    "git init\n",
    "\n",
    "mkdir ezpy\n",
    "mkdir examples\n",
    "mkdir tests\n",
    "\n",
    "New-Item -ItemType File -Path ezpy\\__init__.py\n",
    "New-Item -ItemType File -Path README.md\n",
    "New-Item -ItemType File -Path LICENSE\n",
    "New-Item -ItemType File -Path setup.py\n",
    "New-Item -ItemType File -Path ezpy.py\n"
   ]
  },
  {
   "cell_type": "code",
   "execution_count": null,
   "id": "e24c9ab5",
   "metadata": {},
   "outputs": [],
   "source": [
    "# run in the terminal:\n",
    "\n",
    "notepad LICENSE\n",
    "# or\n",
    "code LICENSE\n",
    "\n",
    "# write this into the LISENCE file, and save it :\n",
    "\n",
    "\n",
    "\n",
    "\n",
    "# MIT License\n",
    "\n",
    "# Copyright (c) 2025 Taymaz Ghaneh\n",
    "\n",
    "# Permission is hereby granted, free of charge, to any person obtaining a copy\n",
    "# of this software and associated documentation files (the \"Software\"), to deal\n",
    "# in the Software without restriction, including without limitation the rights\n",
    "# to use, copy, modify, merge, publish, distribute, sublicense, and/or sell\n",
    "# copies of the Software, and to permit persons to whom the Software is\n",
    "# furnished to do so, subject to the following conditions:\n",
    "\n",
    "# The above copyright notice and this permission notice shall be included in\n",
    "# all copies or substantial portions of the Software.\n",
    "\n",
    "# THE SOFTWARE IS PROVIDED \"AS IS\", WITHOUT WARRANTY OF ANY KIND, EXPRESS OR\n",
    "# IMPLIED, INCLUDING BUT NOT LIMITED TO THE WARRANTIES OF MERCHANTABILITY,\n",
    "# FITNESS FOR A PARTICULAR PURPOSE AND NONINFRINGEMENT. IN NO EVENT SHALL THE\n",
    "# AUTHORS OR COPYRIGHT HOLDERS BE LIABLE FOR ANY CLAIM, DAMAGES OR OTHER\n",
    "# LIABILITY, WHETHER IN AN ACTION OF CONTRACT, TORT OR OTHERWISE, ARISING FROM,\n",
    "# OUT OF OR IN CONNECTION WITH THE SOFTWARE OR THE USE OR OTHER DEALINGS IN\n",
    "# THE SOFTWARE.\n",
    "\n"
   ]
  },
  {
   "cell_type": "code",
   "execution_count": null,
   "id": "aeaf20c3",
   "metadata": {},
   "outputs": [],
   "source": [
    "# run in the terminal:\n",
    "git add .\n",
    "git commit -m \"Initial project structure for ezpy\"\n",
    "\n",
    "# create a new  private/public  repository at  https://github.com/taymaz-gh\n",
    "# then:\n",
    "\n",
    "git remote add origin https://github.com/taymaz-gh/ezpy.git\n",
    "git remote set-url origin https://github.com/taymaz-gh/ezpy.git\n",
    "git branch -M main\n",
    "git push -u origin main\n"
   ]
  },
  {
   "cell_type": "code",
   "execution_count": null,
   "id": "3773f745",
   "metadata": {},
   "outputs": [],
   "source": [
    "# run in the terminal:\n",
    "\n",
    "# creating a sample written as the ezpy library syntax/format\n",
    "New-Item -ItemType File -Path examples\\demo1.ezpy\n",
    "code demo1.ezpy\n",
    "\n",
    "# creating the parser that converts the ezpy library format to basic python format\n",
    "code ezpy.py\n",
    "\n",
    "# testing whether the parser converts the sample code correctly\n",
    "python ezpy.py examples\\demo1.ezpy demo1.py\n",
    "code demo1.py"
   ]
  },
  {
   "cell_type": "code",
   "execution_count": null,
   "id": "3886766e",
   "metadata": {},
   "outputs": [],
   "source": [
    "New-Item -ItemType File -Path examples\\demo2.ezpy\n",
    "code demo2.ezpy"
   ]
  }
 ],
 "metadata": {
  "language_info": {
   "name": "python"
  }
 },
 "nbformat": 4,
 "nbformat_minor": 5
}
